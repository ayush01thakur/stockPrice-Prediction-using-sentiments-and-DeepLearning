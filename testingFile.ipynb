{
 "cells": [
  {
   "cell_type": "code",
   "execution_count": 4,
   "metadata": {},
   "outputs": [],
   "source": [
    "import tensorflow as tf\n",
    "from tensorflow.keras.models import load_model\n",
    "from sklearn.preprocessing import MinMaxScaler\n",
    "import numpy as np"
   ]
  },
  {
   "cell_type": "code",
   "execution_count": 3,
   "metadata": {},
   "outputs": [
    {
     "name": "stdout",
     "output_type": "stream",
     "text": [
      "Model: \"sequential_16\"\n",
      "_________________________________________________________________\n",
      " Layer (type)                Output Shape              Param #   \n",
      "=================================================================\n",
      " lstm_51 (LSTM)              (None, 1, 1000)           4032000   \n",
      "                                                                 \n",
      " lstm_52 (LSTM)              (None, 1, 500)            3002000   \n",
      "                                                                 \n",
      " lstm_53 (LSTM)              (None, 250)               751000    \n",
      "                                                                 \n",
      " dense_39 (Dense)            (None, 200)               50200     \n",
      "                                                                 \n",
      " dropout_11 (Dropout)        (None, 200)               0         \n",
      "                                                                 \n",
      " dense_40 (Dense)            (None, 256)               51456     \n",
      "                                                                 \n",
      " dense_41 (Dense)            (None, 256)               65792     \n",
      "                                                                 \n",
      " dropout_12 (Dropout)        (None, 256)               0         \n",
      "                                                                 \n",
      " dense_42 (Dense)            (None, 256)               65792     \n",
      "                                                                 \n",
      " dense_43 (Dense)            (None, 1)                 257       \n",
      "                                                                 \n",
      "=================================================================\n",
      "Total params: 8,018,497\n",
      "Trainable params: 8,018,497\n",
      "Non-trainable params: 0\n",
      "_________________________________________________________________\n"
     ]
    }
   ],
   "source": [
    "model=load_model('lstmModel.h5')\n",
    "model.summary()"
   ]
  },
  {
   "cell_type": "code",
   "execution_count": 32,
   "metadata": {},
   "outputs": [
    {
     "name": "stdout",
     "output_type": "stream",
     "text": [
      "1/1 [==============================] - 0s 30ms/step\n"
     ]
    }
   ],
   "source": [
    "# features = ['Open', 'High', 'Low', 'Volume', 'Negative', 'Neutral', 'Positive']\n",
    "\n",
    "# predicting the closing value for given input values\n",
    "\n",
    "opening= 500\n",
    "high= 500\n",
    "low= 500\n",
    "volume= 5131000\n",
    "negetive= 0\n",
    "neutral= 0.16\n",
    "positive= 0.451\n",
    "\n",
    "\n",
    "scaler=MinMaxScaler(clip= False, copy= True, feature_range= (0, 1))\n",
    "\n",
    "values = [opening, high, low, volume, negetive, neutral, positive]\n",
    "values =np.array(values)\n",
    "\n",
    "testing = scaler.fit_transform(values.reshape(-1, values.shape[-1]))\n",
    "testing = testing.reshape((testing.shape[0], 1, testing.shape[-1]))\n",
    "\n",
    "\n",
    "\n",
    "closingValue = model.predict(testing)"
   ]
  },
  {
   "cell_type": "code",
   "execution_count": 33,
   "metadata": {},
   "outputs": [
    {
     "name": "stdout",
     "output_type": "stream",
     "text": [
      "Closing Value based on past data: 78.11304\n"
     ]
    }
   ],
   "source": [
    "print(\"Closing Value based on past data:\", closingValue[0][0])"
   ]
  },
  {
   "cell_type": "code",
   "execution_count": null,
   "metadata": {},
   "outputs": [],
   "source": []
  }
 ],
 "metadata": {
  "kernelspec": {
   "display_name": "myEnv",
   "language": "python",
   "name": "python3"
  },
  "language_info": {
   "codemirror_mode": {
    "name": "ipython",
    "version": 3
   },
   "file_extension": ".py",
   "mimetype": "text/x-python",
   "name": "python",
   "nbconvert_exporter": "python",
   "pygments_lexer": "ipython3",
   "version": "3.9.18"
  }
 },
 "nbformat": 4,
 "nbformat_minor": 2
}
